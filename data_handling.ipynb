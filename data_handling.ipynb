{
 "cells": [
  {
   "cell_type": "markdown",
   "id": "16afda76-521e-4157-b77d-00b1d8f621d1",
   "metadata": {},
   "source": [
    "<div style=\"background-color:teal; color:white; padding:10px; font-size:20px\">\n",
    "NB Setup"
   ]
  },
  {
   "cell_type": "markdown",
   "id": "05713122-3de6-4f3e-afba-b7fcb8dc9e03",
   "metadata": {
    "tags": []
   },
   "source": [
    "#### Installs"
   ]
  },
  {
   "cell_type": "code",
   "execution_count": 2,
   "id": "d4cdd9c8-47b9-4660-b7db-71a182a3dd6a",
   "metadata": {
    "collapsed": true,
    "jupyter": {
     "outputs_hidden": true
    },
    "tags": []
   },
   "outputs": [
    {
     "name": "stdout",
     "output_type": "stream",
     "text": [
      "Collecting package metadata (current_repodata.json): done\n",
      "Solving environment: | \n",
      "The environment is inconsistent, please check the package plan carefully\n",
      "The following packages are causing the inconsistency:\n",
      "\n",
      "  - defaults/linux-64::anaconda-client==1.7.2=py37_0\n",
      "  - defaults/noarch::anaconda-project==0.8.4=py_0\n",
      "  - defaults/linux-64::bokeh==1.4.0=py37_0\n",
      "  - defaults/noarch::dask==2.11.0=py_0\n",
      "  - defaults/linux-64::distributed==2.11.0=py37_0\n",
      "  - defaults/linux-64::spyder==4.0.1=py37_0\n",
      "  - defaults/linux-64::watchdog==0.10.2=py37_0\n",
      "failed with repodata from current_repodata.json, will retry with next repodata source.\n",
      "Solving environment: failed with repodata from current_repodata.json, will retry with next repodata source.\n",
      "Collecting package metadata (repodata.json): done\n",
      "Solving environment: / \n",
      "The environment is inconsistent, please check the package plan carefully\n",
      "The following packages are causing the inconsistency:\n",
      "\n",
      "  - defaults/linux-64::anaconda-client==1.7.2=py37_0\n",
      "  - defaults/noarch::anaconda-project==0.8.4=py_0\n",
      "  - defaults/linux-64::bokeh==1.4.0=py37_0\n",
      "  - defaults/noarch::dask==2.11.0=py_0\n",
      "  - defaults/linux-64::distributed==2.11.0=py37_0\n",
      "  - defaults/linux-64::spyder==4.0.1=py37_0\n",
      "  - defaults/linux-64::watchdog==0.10.2=py37_0\n",
      "done\n",
      "\n",
      "## Package Plan ##\n",
      "\n",
      "  environment location: /opt/conda\n",
      "\n",
      "  added / updated specs:\n",
      "    - conda\n",
      "\n",
      "\n",
      "The following packages will be downloaded:\n",
      "\n",
      "    package                    |            build\n",
      "    ---------------------------|-----------------\n",
      "    _openmp_mutex-5.1          |            1_gnu          21 KB\n",
      "    autovizwidget-0.20.0       |   py37h06a4308_0          27 KB\n",
      "    ca-certificates-2023.08.22 |       h06a4308_0         123 KB\n",
      "    certifi-2022.12.7          |   py37h06a4308_0         150 KB\n",
      "    cffi-1.15.1                |   py37h74dc2b5_0         227 KB\n",
      "    conda-22.9.0               |   py37h06a4308_0         878 KB\n",
      "    conda-package-handling-1.9.0|   py37h5eee18b_1         945 KB\n",
      "    cryptography-39.0.1        |   py37h9ce1e76_0         1.4 MB\n",
      "    hdijupyterutils-0.20.0     |   py37h06a4308_0          15 KB\n",
      "    idna-3.4                   |   py37h06a4308_0          91 KB\n",
      "    ld_impl_linux-64-2.38      |       h1181459_1         654 KB\n",
      "    libedit-3.1.20221030       |       h5eee18b_0         181 KB\n",
      "    libffi-3.3                 |       he6710b0_2          50 KB\n",
      "    libgcc-ng-11.2.0           |       h1234567_1         5.3 MB\n",
      "    libgomp-11.2.0             |       h1234567_1         474 KB\n",
      "    libntlm-1.6                |       h7f8727e_0          32 KB\n",
      "    libstdcxx-ng-11.2.0        |       h1234567_1         4.7 MB\n",
      "    ncurses-6.4                |       h6a678d5_0         914 KB\n",
      "    openssl-1.1.1v             |       h7f8727e_0         3.7 MB\n",
      "    pip-22.3.1                 |   py37h06a4308_0         2.7 MB\n",
      "    plotly-5.9.0               |   py37h06a4308_0         4.0 MB\n",
      "    pure-sasl-0.6.2            |             py_0          14 KB\n",
      "    pycosat-0.6.4              |   py37h5eee18b_0          84 KB\n",
      "    pycparser-2.21             |     pyhd3eb1b0_0          94 KB\n",
      "    pykerberos-1.2.1           |   py37ha6b2b2b_1         214 KB\n",
      "    pyopenssl-23.0.0           |   py37h06a4308_0          96 KB\n",
      "    pysocks-1.7.1              |           py37_1          27 KB\n",
      "    pyyaml-6.0                 |   py37h5eee18b_1         185 KB\n",
      "    readline-8.2               |       h5eee18b_0         357 KB\n",
      "    requests-2.28.1            |   py37h06a4308_0          92 KB\n",
      "    requests-kerberos-0.12.0   |   py37h06a4308_0         254 KB\n",
      "    ruamel_yaml-0.15.100       |   py37h27cfd23_0         253 KB\n",
      "    setuptools-65.6.3          |   py37h06a4308_0         1.1 MB\n",
      "    sqlite-3.41.2              |       h5eee18b_0         1.2 MB\n",
      "    tenacity-8.0.1             |   py37h06a4308_1          34 KB\n",
      "    thrift-0.17.0              |   py37h6a678d5_0         124 KB\n",
      "    tk-8.6.12                  |       h1ccaba5_0         3.0 MB\n",
      "    toolz-0.12.0               |   py37h06a4308_0         104 KB\n",
      "    tqdm-4.64.1                |   py37h06a4308_0         126 KB\n",
      "    urllib3-1.26.14            |   py37h06a4308_0         195 KB\n",
      "    wheel-0.38.4               |   py37h06a4308_0          63 KB\n",
      "    xz-5.4.2                   |       h5eee18b_0         642 KB\n",
      "    yaml-0.2.5                 |       h7b6447c_0          75 KB\n",
      "    zlib-1.2.13                |       h5eee18b_0         103 KB\n",
      "    ------------------------------------------------------------\n",
      "                                           Total:        35.0 MB\n",
      "\n",
      "The following NEW packages will be INSTALLED:\n",
      "\n",
      "  _openmp_mutex      pkgs/main/linux-64::_openmp_mutex-5.1-1_gnu None\n",
      "  libgomp            pkgs/main/linux-64::libgomp-11.2.0-h1234567_1 None\n",
      "  pyyaml             pkgs/main/linux-64::pyyaml-6.0-py37h5eee18b_1 None\n",
      "\n",
      "The following packages will be UPDATED:\n",
      "\n",
      "  ca-certificates    conda-forge::ca-certificates-2023.7.2~ --> pkgs/main::ca-certificates-2023.08.22-h06a4308_0 None\n",
      "  cffi                                1.15.0-py37hd667e15_1 --> 1.15.1-py37h74dc2b5_0 None\n",
      "  conda-package-han~                   1.8.1-py37h7f8727e_0 --> 1.9.0-py37h5eee18b_1 None\n",
      "  cryptography                           2.8-py37h1ba5d50_0 --> 39.0.1-py37h9ce1e76_0 None\n",
      "  idna                                           2.8-py37_0 --> 3.4-py37h06a4308_0 None\n",
      "  ld_impl_linux-64                        2.33.1-h53a641e_7 --> 2.38-h1181459_1 None\n",
      "  libedit                           3.1.20181209-hc058e9b_0 --> 3.1.20221030-h5eee18b_0 None\n",
      "  libgcc-ng                                9.1.0-hdf63c60_0 --> 11.2.0-h1234567_1 None\n",
      "  libntlm            conda-forge::libntlm-1.4-h516909a_1002 --> pkgs/main::libntlm-1.6-h7f8727e_0 None\n",
      "  libstdcxx-ng                             9.1.0-hdf63c60_0 --> 11.2.0-h1234567_1 None\n",
      "  ncurses                                    6.2-he6710b0_0 --> 6.4-h6a678d5_0 None\n",
      "  openssl                                 1.1.1u-h7f8727e_0 --> 1.1.1v-h7f8727e_0 None\n",
      "  pip                                         20.0.2-py37_1 --> 22.3.1-py37h06a4308_0 None\n",
      "  pycosat                              0.6.3-py37h7b6447c_0 --> 0.6.4-py37h5eee18b_0 None\n",
      "  pycparser          pkgs/main/linux-64::pycparser-2.19-py~ --> pkgs/main/noarch::pycparser-2.21-pyhd3eb1b0_0 None\n",
      "  pyopenssl                                   19.1.0-py37_0 --> 23.0.0-py37h06a4308_0 None\n",
      "  pysocks                                      1.7.1-py37_0 --> 1.7.1-py37_1 None\n",
      "  readline             conda-forge::readline-8.0-he28a2e2_2 --> pkgs/main::readline-8.2-h5eee18b_0 None\n",
      "  requests                                    2.22.0-py37_1 --> 2.28.1-py37h06a4308_0 None\n",
      "  ruamel_yaml                        0.15.87-py37h7b6447c_0 --> 0.15.100-py37h27cfd23_0 None\n",
      "  setuptools                                  45.2.0-py37_0 --> 65.6.3-py37h06a4308_0 None\n",
      "  sqlite                                  3.38.2-hc218d9a_0 --> 3.41.2-h5eee18b_0 None\n",
      "  thrift             conda-forge::thrift-0.13.0-py37h74590~ --> pkgs/main::thrift-0.17.0-py37h6a678d5_0 None\n",
      "  tk                      conda-forge::tk-8.6.11-h21135ba_0 --> pkgs/main::tk-8.6.12-h1ccaba5_0 None\n",
      "  toolz                 pkgs/main/noarch::toolz-0.10.0-py_0 --> pkgs/main/linux-64::toolz-0.12.0-py37h06a4308_0 None\n",
      "  tqdm                   pkgs/main/noarch::tqdm-4.42.1-py_0 --> pkgs/main/linux-64::tqdm-4.64.1-py37h06a4308_0 None\n",
      "  urllib3                                     1.25.8-py37_0 --> 1.26.14-py37h06a4308_0 None\n",
      "  wheel                                       0.34.2-py37_0 --> 0.38.4-py37h06a4308_0 None\n",
      "  xz                       conda-forge::xz-5.2.5-h516909a_1 --> pkgs/main::xz-5.4.2-h5eee18b_0 None\n",
      "  yaml                                     0.1.7-had09818_2 --> 0.2.5-h7b6447c_0 None\n",
      "  zlib                                    1.2.11-h7b6447c_3 --> 1.2.13-h5eee18b_0 None\n",
      "\n",
      "The following packages will be SUPERSEDED by a higher-priority channel:\n",
      "\n",
      "  autovizwidget      conda-forge/noarch::autovizwidget-0.2~ --> pkgs/main/linux-64::autovizwidget-0.20.0-py37h06a4308_0 None\n",
      "  certifi            conda-forge/noarch::certifi-2023.7.22~ --> pkgs/main/linux-64::certifi-2022.12.7-py37h06a4308_0 None\n",
      "  conda              conda-forge::conda-22.9.0-py37h89c186~ --> pkgs/main::conda-22.9.0-py37h06a4308_0 None\n",
      "  hdijupyterutils    conda-forge/noarch::hdijupyterutils-0~ --> pkgs/main/linux-64::hdijupyterutils-0.20.0-py37h06a4308_0 None\n",
      "  libffi                 conda-forge::libffi-3.3-h58526e2_2 --> pkgs/main::libffi-3.3-he6710b0_2 None\n",
      "  plotly             conda-forge/noarch::plotly-5.11.0-pyh~ --> pkgs/main/linux-64::plotly-5.9.0-py37h06a4308_0 None\n",
      "  pure-sasl          conda-forge::pure-sasl-0.6.2-pyhd8ed1~ --> pkgs/main::pure-sasl-0.6.2-py_0 None\n",
      "  pykerberos         conda-forge::pykerberos-1.2.1-py37h74~ --> pkgs/main::pykerberos-1.2.1-py37ha6b2b2b_1 None\n",
      "  requests-kerberos  conda-forge::requests-kerberos-0.12.0~ --> pkgs/main::requests-kerberos-0.12.0-py37h06a4308_0 None\n",
      "  tenacity           conda-forge/noarch::tenacity-8.2.2-py~ --> pkgs/main/linux-64::tenacity-8.0.1-py37h06a4308_1 None\n",
      "\n",
      "\n",
      "\n",
      "Downloading and Extracting Packages\n",
      "pysocks-1.7.1        | 27 KB     | ##################################### | 100% \n",
      "_openmp_mutex-5.1    | 21 KB     | ##################################### | 100% \n",
      "pycosat-0.6.4        | 84 KB     | ##################################### | 100% \n",
      "idna-3.4             | 91 KB     | ##################################### | 100% \n",
      "libgomp-11.2.0       | 474 KB    | ##################################### | 100% \n",
      "pip-22.3.1           | 2.7 MB    | ##################################### | 100% \n",
      "conda-22.9.0         | 878 KB    | ##################################### | 100% \n",
      "libedit-3.1.20221030 | 181 KB    | ##################################### | 100% \n",
      "pyopenssl-23.0.0     | 96 KB     | ##################################### | 100% \n",
      "libntlm-1.6          | 32 KB     | ##################################### | 100% \n",
      "cffi-1.15.1          | 227 KB    | ##################################### | 100% \n",
      "toolz-0.12.0         | 104 KB    | ##################################### | 100% \n",
      "zlib-1.2.13          | 103 KB    | ##################################### | 100% \n",
      "pyyaml-6.0           | 185 KB    | ##################################### | 100% \n",
      "ncurses-6.4          | 914 KB    | ##################################### | 100% \n",
      "hdijupyterutils-0.20 | 15 KB     | ##################################### | 100% \n",
      "ruamel_yaml-0.15.100 | 253 KB    | ##################################### | 100% \n",
      "sqlite-3.41.2        | 1.2 MB    | ##################################### | 100% \n",
      "requests-2.28.1      | 92 KB     | ##################################### | 100% \n",
      "tk-8.6.12            | 3.0 MB    | ##################################### | 100% \n",
      "pykerberos-1.2.1     | 214 KB    | ##################################### | 100% \n",
      "yaml-0.2.5           | 75 KB     | ##################################### | 100% \n",
      "plotly-5.9.0         | 4.0 MB    | ##################################### | 100% \n",
      "autovizwidget-0.20.0 | 27 KB     | ##################################### | 100% \n",
      "openssl-1.1.1v       | 3.7 MB    | ##################################### | 100% \n",
      "requests-kerberos-0. | 254 KB    | ##################################### | 100% \n",
      "tqdm-4.64.1          | 126 KB    | ##################################### | 100% \n",
      "pycparser-2.21       | 94 KB     | ##################################### | 100% \n",
      "xz-5.4.2             | 642 KB    | ##################################### | 100% \n",
      "wheel-0.38.4         | 63 KB     | ##################################### | 100% \n",
      "conda-package-handli | 945 KB    | ##################################### | 100% \n",
      "pure-sasl-0.6.2      | 14 KB     | ##################################### | 100% \n",
      "cryptography-39.0.1  | 1.4 MB    | ##################################### | 100% \n",
      "ca-certificates-2023 | 123 KB    | ##################################### | 100% \n",
      "thrift-0.17.0        | 124 KB    | ##################################### | 100% \n",
      "libgcc-ng-11.2.0     | 5.3 MB    | ##################################### | 100% \n",
      "libffi-3.3           | 50 KB     | ##################################### | 100% \n",
      "certifi-2022.12.7    | 150 KB    | ##################################### | 100% \n",
      "setuptools-65.6.3    | 1.1 MB    | ##################################### | 100% \n",
      "readline-8.2         | 357 KB    | ##################################### | 100% \n",
      "urllib3-1.26.14      | 195 KB    | ##################################### | 100% \n",
      "libstdcxx-ng-11.2.0  | 4.7 MB    | ##################################### | 100% \n",
      "tenacity-8.0.1       | 34 KB     | ##################################### | 100% \n",
      "ld_impl_linux-64-2.3 | 654 KB    | ##################################### | 100% \n",
      "Preparing transaction: done\n",
      "Verifying transaction: done\n",
      "Executing transaction: done\n",
      "Retrieving notices: ...working... done\n"
     ]
    }
   ],
   "source": [
    "!conda update -n base -c defaults conda -y"
   ]
  },
  {
   "cell_type": "code",
   "execution_count": 3,
   "id": "c7b1358a-44fb-4f0d-82e7-191514b2a199",
   "metadata": {
    "collapsed": true,
    "jupyter": {
     "outputs_hidden": true
    },
    "tags": []
   },
   "outputs": [
    {
     "name": "stdout",
     "output_type": "stream",
     "text": [
      "Collecting package metadata (current_repodata.json): done\n",
      "Solving environment: failed with initial frozen solve. Retrying with flexible solve.\n",
      "Solving environment: failed with repodata from current_repodata.json, will retry with next repodata source.\n",
      "Collecting package metadata (repodata.json): done\n",
      "Solving environment: done\n",
      "\n",
      "\n",
      "==> WARNING: A newer version of conda exists. <==\n",
      "  current version: 22.9.0\n",
      "  latest version: 23.7.3\n",
      "\n",
      "Please update conda by running\n",
      "\n",
      "    $ conda update -n base -c defaults conda\n",
      "\n",
      "\n",
      "\n",
      "## Package Plan ##\n",
      "\n",
      "  environment location: /opt/conda\n",
      "\n",
      "  added / updated specs:\n",
      "    - pytorch\n",
      "    - torchvision\n",
      "\n",
      "\n",
      "The following packages will be downloaded:\n",
      "\n",
      "    package                    |            build\n",
      "    ---------------------------|-----------------\n",
      "    ffmpeg-4.2.2               |       h20bf706_0        59.6 MB\n",
      "    flit-core-3.6.0            |     pyhd3eb1b0_0          42 KB\n",
      "    gnutls-3.6.15              |       he1e5248_0         1.0 MB\n",
      "    lame-3.100                 |       h7b6447c_0         323 KB\n",
      "    libidn2-2.3.4              |       h5eee18b_0         146 KB\n",
      "    libopus-1.3.1              |       h7b6447c_0         491 KB\n",
      "    libtasn1-4.19.0            |       h5eee18b_0          63 KB\n",
      "    libunistring-0.9.10        |       h27cfd23_0         536 KB\n",
      "    libvpx-1.7.0               |       h439df22_0         1.2 MB\n",
      "    nettle-3.7.3               |       hbbd107a_1         809 KB\n",
      "    openh264-2.1.1             |       h4ff587b_0         711 KB\n",
      "    pytorch-1.13.1             |      py3.7_cpu_0        81.5 MB  pytorch\n",
      "    pytorch-mutex-1.0          |              cpu           3 KB  pytorch\n",
      "    torchvision-0.14.1         |         py37_cpu        25.3 MB  pytorch\n",
      "    typing_extensions-4.4.0    |   py37h06a4308_0          45 KB\n",
      "    x264-1!157.20191217        |       h7b6447c_0         922 KB\n",
      "    ------------------------------------------------------------\n",
      "                                           Total:       172.6 MB\n",
      "\n",
      "The following NEW packages will be INSTALLED:\n",
      "\n",
      "  ffmpeg             pkgs/main/linux-64::ffmpeg-4.2.2-h20bf706_0 None\n",
      "  flit-core          pkgs/main/noarch::flit-core-3.6.0-pyhd3eb1b0_0 None\n",
      "  gnutls             pkgs/main/linux-64::gnutls-3.6.15-he1e5248_0 None\n",
      "  lame               pkgs/main/linux-64::lame-3.100-h7b6447c_0 None\n",
      "  libidn2            pkgs/main/linux-64::libidn2-2.3.4-h5eee18b_0 None\n",
      "  libopus            pkgs/main/linux-64::libopus-1.3.1-h7b6447c_0 None\n",
      "  libtasn1           pkgs/main/linux-64::libtasn1-4.19.0-h5eee18b_0 None\n",
      "  libunistring       pkgs/main/linux-64::libunistring-0.9.10-h27cfd23_0 None\n",
      "  libvpx             pkgs/main/linux-64::libvpx-1.7.0-h439df22_0 None\n",
      "  nettle             pkgs/main/linux-64::nettle-3.7.3-hbbd107a_1 None\n",
      "  openh264           pkgs/main/linux-64::openh264-2.1.1-h4ff587b_0 None\n",
      "  pytorch            pytorch/linux-64::pytorch-1.13.1-py3.7_cpu_0 None\n",
      "  pytorch-mutex      pytorch/noarch::pytorch-mutex-1.0-cpu None\n",
      "  torchvision        pytorch/linux-64::torchvision-0.14.1-py37_cpu None\n",
      "  typing_extensions  pkgs/main/linux-64::typing_extensions-4.4.0-py37h06a4308_0 None\n",
      "  x264               pkgs/main/linux-64::x264-1!157.20191217-h7b6447c_0 None\n",
      "\n",
      "\n",
      "\n",
      "Downloading and Extracting Packages\n",
      "pytorch-mutex-1.0    | 3 KB      | ##################################### | 100% \n",
      "lame-3.100           | 323 KB    | ##################################### | 100% \n",
      "ffmpeg-4.2.2         | 59.6 MB   | ##################################### | 100% \n",
      "typing_extensions-4. | 45 KB     | ##################################### | 100% \n",
      "flit-core-3.6.0      | 42 KB     | ##################################### | 100% \n",
      "openh264-2.1.1       | 711 KB    | ##################################### | 100% \n",
      "libunistring-0.9.10  | 536 KB    | ##################################### | 100% \n",
      "gnutls-3.6.15        | 1.0 MB    | ##################################### | 100% \n",
      "nettle-3.7.3         | 809 KB    | ##################################### | 100% \n",
      "libopus-1.3.1        | 491 KB    | ##################################### | 100% \n",
      "libidn2-2.3.4        | 146 KB    | ##################################### | 100% \n",
      "libtasn1-4.19.0      | 63 KB     | ##################################### | 100% \n",
      "libvpx-1.7.0         | 1.2 MB    | ##################################### | 100% \n",
      "pytorch-1.13.1       | 81.5 MB   | ##################################### | 100% \n",
      "torchvision-0.14.1   | 25.3 MB   | ##################################### | 100% \n",
      "x264-1!157.20191217  | 922 KB    | ##################################### | 100% \n",
      "Preparing transaction: done\n",
      "Verifying transaction: done\n",
      "Executing transaction: done\n",
      "Retrieving notices: ...working... done\n"
     ]
    }
   ],
   "source": [
    "!conda install pytorch torchvision -c pytorch -y"
   ]
  },
  {
   "cell_type": "code",
   "execution_count": 4,
   "id": "643d9c4a-5883-4f07-9f3f-e958ad8e6126",
   "metadata": {
    "collapsed": true,
    "jupyter": {
     "outputs_hidden": true
    },
    "tags": []
   },
   "outputs": [
    {
     "name": "stdout",
     "output_type": "stream",
     "text": [
      "Keyring is skipped due to an exception: 'keyring.backends'\n",
      "Requirement already satisfied: boto3 in /opt/conda/lib/python3.7/site-packages (1.28.14)\n",
      "Requirement already satisfied: s3transfer<0.7.0,>=0.6.0 in /opt/conda/lib/python3.7/site-packages (from boto3) (0.6.1)\n",
      "Requirement already satisfied: jmespath<2.0.0,>=0.7.1 in /opt/conda/lib/python3.7/site-packages (from boto3) (1.0.1)\n",
      "Requirement already satisfied: botocore<1.32.0,>=1.31.14 in /opt/conda/lib/python3.7/site-packages (from boto3) (1.31.14)\n",
      "Collecting urllib3<1.27,>=1.25.4\n",
      "  Using cached urllib3-1.26.16-py2.py3-none-any.whl (143 kB)\n",
      "Requirement already satisfied: python-dateutil<3.0.0,>=2.1 in /opt/conda/lib/python3.7/site-packages (from botocore<1.32.0,>=1.31.14->boto3) (2.8.2)\n",
      "Requirement already satisfied: six>=1.5 in /opt/conda/lib/python3.7/site-packages (from python-dateutil<3.0.0,>=2.1->botocore<1.32.0,>=1.31.14->boto3) (1.14.0)\n",
      "Installing collected packages: urllib3\n",
      "  Attempting uninstall: urllib3\n",
      "    Found existing installation: urllib3 2.0.4\n",
      "    Uninstalling urllib3-2.0.4:\n",
      "      Successfully uninstalled urllib3-2.0.4\n",
      "\u001b[31mERROR: pip's dependency resolver does not currently take into account all the packages that are installed. This behaviour is the source of the following dependency conflicts.\n",
      "anaconda-project 0.8.3 requires ruamel-yaml, which is not installed.\n",
      "awscli 1.29.14 requires rsa<4.8,>=3.1.2, but you have rsa 4.9 which is incompatible.\n",
      "aiobotocore 2.4.2 requires botocore<1.27.60,>=1.27.59, but you have botocore 1.31.14 which is incompatible.\u001b[0m\u001b[31m\n",
      "\u001b[0mSuccessfully installed urllib3-1.26.16\n",
      "\u001b[33mWARNING: Running pip as the 'root' user can result in broken permissions and conflicting behaviour with the system package manager. It is recommended to use a virtual environment instead: https://pip.pypa.io/warnings/venv\u001b[0m\u001b[33m\n",
      "\u001b[0m"
     ]
    }
   ],
   "source": [
    "!pip install boto3"
   ]
  },
  {
   "cell_type": "markdown",
   "id": "c01250da-e2f3-4043-ad59-48cc1d47eb91",
   "metadata": {},
   "source": [
    "#### Imports"
   ]
  },
  {
   "cell_type": "code",
   "execution_count": 10,
   "id": "18eb9422-14a5-4cfc-be16-7031e23c0ed3",
   "metadata": {
    "tags": []
   },
   "outputs": [],
   "source": [
    "import torch\n",
    "import torchvision\n",
    "import torchvision.transforms as transforms\n",
    "import boto3\n",
    "import os"
   ]
  },
  {
   "cell_type": "markdown",
   "id": "a60215d3-6a0d-463f-800b-d3177770e0da",
   "metadata": {},
   "source": [
    "#### S3 Connection"
   ]
  },
  {
   "cell_type": "code",
   "execution_count": 7,
   "id": "101b1d31-7ab6-48ae-a6a5-f2fa50c26781",
   "metadata": {
    "tags": []
   },
   "outputs": [
    {
     "name": "stderr",
     "output_type": "stream",
     "text": [
      "/opt/conda/lib/python3.7/site-packages/boto3/compat.py:82: PythonDeprecationWarning: Boto3 will no longer support Python 3.7 starting December 13, 2023. To continue receiving service updates, bug fixes, and security updates please upgrade to Python 3.8 or later. More information can be found here: https://aws.amazon.com/blogs/developer/python-support-policy-updates-for-aws-sdks-and-tools/\n",
      "  warnings.warn(warning, PythonDeprecationWarning)\n"
     ]
    },
    {
     "name": "stdout",
     "output_type": "stream",
     "text": [
      "Bucket List: ['behavior-project', 'pytorch-aws-train-deploy-project', 'sagemaker-us-east-1-717145514721']\n"
     ]
    }
   ],
   "source": [
    "s3 = boto3.client(\"s3\")# Create a session using your AWS credentials\n",
    "response = s3.list_buckets()# List all bucket names\n",
    "buckets = [bucket[\"Name\"] for bucket in response[\"Buckets\"]]# Convert to list\n",
    "\n",
    "# Print out the bucket list\n",
    "print(\"Bucket List: %s\" % buckets)"
   ]
  },
  {
   "cell_type": "markdown",
   "id": "ad6e1098-252b-4037-8332-5dad5453f05e",
   "metadata": {},
   "source": [
    "<div style=\"background-color:teal; color:white; padding:10px; font-size:20px\">\n",
    "Download Data (Batch Format)"
   ]
  },
  {
   "cell_type": "code",
   "execution_count": 8,
   "id": "9194de84-f8d0-4c45-bffc-c5ae92d468e9",
   "metadata": {},
   "outputs": [
    {
     "name": "stdout",
     "output_type": "stream",
     "text": [
      "Files already downloaded and verified\n",
      "Files already downloaded and verified\n"
     ]
    }
   ],
   "source": [
    "# Download the CIFAR-10 dataset\n",
    "download_transform = transforms.Compose([transforms.ToTensor()])\n",
    "trainset = torchvision.datasets.CIFAR10(root='./data', train=True, download=True, transform=download_transform)\n",
    "testset = torchvision.datasets.CIFAR10(root='./data', train=False, download=True, transform=download_transform)"
   ]
  },
  {
   "cell_type": "markdown",
   "id": "3228cdc8-3ee2-40c0-92cc-0a58d60878fa",
   "metadata": {},
   "source": [
    "<div style=\"background-color:teal; color:white; padding:10px; font-size:20px\">\n",
    "Convert to Folder Format & upload to s3"
   ]
  },
  {
   "cell_type": "code",
   "execution_count": null,
   "id": "1acb69d2-013c-454e-81d8-3c09c49e5176",
   "metadata": {
    "tags": []
   },
   "outputs": [],
   "source": [
    "# Define function to save images in foldered format\n",
    "def save_to_foldered_format(dataset, root_dir):\n",
    "    if not os.path.exists(root_dir):\n",
    "        os.makedirs(root_dir)\n",
    "    for i, (image, label) in enumerate(dataset):\n",
    "        label_dir = os.path.join(root_dir, dataset.classes[label])\n",
    "        if not os.path.exists(label_dir):\n",
    "            os.makedirs(label_dir)\n",
    "        image_path = os.path.join(label_dir, f\"{i}.png\")\n",
    "        torchvision.utils.save_image(image, image_path)\n",
    "\n",
    "# Save the datasets to the foldered format\n",
    "save_to_foldered_format(trainset, './data/cifar10_foldered/train')\n",
    "save_to_foldered_format(testset, './data/cifar10_foldered/val')"
   ]
  },
  {
   "cell_type": "markdown",
   "id": "cb8f8b34-7254-495d-9219-de4bef3d9a82",
   "metadata": {},
   "source": [
    "Upload to s3"
   ]
  },
  {
   "cell_type": "code",
   "execution_count": null,
   "id": "dfbc1c51-dad5-4310-993f-2b4f7f4fb90a",
   "metadata": {
    "tags": []
   },
   "outputs": [],
   "source": [
    "from tqdm import tqdm\n",
    "\n",
    "def upload_dir_to_s3(bucket_name, source_directory, target_directory=\"\"):\n",
    "    s3 = boto3.client('s3')\n",
    "    \n",
    "    # Get the total number of files for tqdm\n",
    "    total_files = sum([len(files) for subdir, _, files in os.walk(source_directory)])\n",
    "    \n",
    "    progress_bar = tqdm(total=total_files, desc=\"Uploading\", unit=\"file\")\n",
    "    \n",
    "    for subdir, _, files in os.walk(source_directory):\n",
    "        for file in files:\n",
    "            full_path = os.path.join(subdir, file)\n",
    "            with open(full_path, 'rb') as data:\n",
    "                relative_path = subdir.replace(source_directory, '').lstrip('/')\n",
    "                key = os.path.join(target_directory, relative_path, file)\n",
    "                s3.upload_fileobj(data, bucket_name, key)\n",
    "                progress_bar.update(1)  # Update tqdm progress bar\n",
    "\n",
    "    progress_bar.close()  # Close the tqdm progress bar once uploading is done"
   ]
  },
  {
   "cell_type": "raw",
   "id": "9f3d8d24-4b9b-4b70-851e-c1316c42e78e",
   "metadata": {
    "tags": []
   },
   "source": [
    "# Create a new S3 bucket\n",
    "bucket_name = 'pytorch-aws-train-deploy-project'\n",
    "s3.create_bucket(Bucket=bucket_name)"
   ]
  },
  {
   "cell_type": "code",
   "execution_count": null,
   "id": "4c4c71cc-47d3-402b-b6bc-a8d508081467",
   "metadata": {
    "tags": []
   },
   "outputs": [],
   "source": [
    "# Set Paths\n",
    "bucket_name = 'pytorch-aws-train-deploy-project'\n",
    "\n",
    "train_source_directory = \"/root/projects/pytorch_train_deploy/data/cifar10_foldered/train\"\n",
    "train_target_directory = \"cifar-dataset/foldered-dataset/train\"\n",
    "\n",
    "val_source_directory = \"/root/projects/pytorch_train_deploy/data/cifar10_foldered/val\"\n",
    "val_target_directory = \"cifar-dataset/foldered-dataset/val\"\n",
    "\n",
    "# Upload\n",
    "upload_dir_to_s3(bucket_name, train_source_directory, train_target_directory)\n",
    "upload_dir_to_s3(bucket_name, val_source_directory, val_target_directory)"
   ]
  },
  {
   "cell_type": "markdown",
   "id": "61c093d8-f178-4e29-a995-f102dcbcd444",
   "metadata": {},
   "source": [
    "<div style=\"background-color:teal; color:white; padding:10px; font-size:20px\">\n",
    "(Subset) Convert to Foldered and Upload to s3"
   ]
  },
  {
   "cell_type": "code",
   "execution_count": null,
   "id": "b83fa520-a863-4e02-aca6-bbdd725ebac0",
   "metadata": {
    "tags": []
   },
   "outputs": [],
   "source": [
    "# Define function to save images in foldered format\n",
    "def save_to_foldered_format(dataset, root_dir, fraction=1.0):\n",
    "    if not os.path.exists(root_dir):\n",
    "        os.makedirs(root_dir)\n",
    "\n",
    "    num_images_to_save = int(len(dataset) * fraction)  # Compute the number of images to save\n",
    "    \n",
    "    for i, (image, label) in enumerate(dataset):\n",
    "        if i >= num_images_to_save:\n",
    "            break  # Stop after saving desired number of images\n",
    "\n",
    "        label_dir = os.path.join(root_dir, dataset.classes[label])\n",
    "        if not os.path.exists(label_dir):\n",
    "            os.makedirs(label_dir)\n",
    "\n",
    "        image_path = os.path.join(label_dir, f\"{i}.png\")\n",
    "        torchvision.utils.save_image(image, image_path)"
   ]
  },
  {
   "cell_type": "raw",
   "id": "8c73ae41-be55-4962-8bb2-4b610b8cc4a3",
   "metadata": {
    "tags": []
   },
   "source": [
    "# Save a subset of the datasets to the foldered format\n",
    "save_to_foldered_format(trainset, './data/cifar10_foldered_subset/train', fraction=0.1)\n",
    "save_to_foldered_format(testset, './data/cifar10_foldered_subset/val', fraction=0.1)"
   ]
  },
  {
   "cell_type": "code",
   "execution_count": null,
   "id": "70b4e101-6191-4f68-99ac-cdacabacedae",
   "metadata": {
    "tags": []
   },
   "outputs": [],
   "source": [
    "from tqdm import tqdm\n",
    "\n",
    "def upload_dir_to_s3(bucket_name, source_directory, target_directory=\"\"):\n",
    "    s3 = boto3.client('s3')\n",
    "    \n",
    "    # Get the total number of files for tqdm\n",
    "    total_files = sum([len(files) for subdir, _, files in os.walk(source_directory)])\n",
    "    \n",
    "    progress_bar = tqdm(total=total_files, desc=\"Uploading\", unit=\"file\")\n",
    "    \n",
    "    for subdir, _, files in os.walk(source_directory):\n",
    "        for file in files:\n",
    "            full_path = os.path.join(subdir, file)\n",
    "            with open(full_path, 'rb') as data:\n",
    "                relative_path = subdir.replace(source_directory, '').lstrip('/')\n",
    "                key = os.path.join(target_directory, relative_path, file)\n",
    "                s3.upload_fileobj(data, bucket_name, key)\n",
    "                progress_bar.update(1)  # Update tqdm progress bar\n",
    "\n",
    "    progress_bar.close()  # Close the tqdm progress bar once uploading is done"
   ]
  },
  {
   "cell_type": "code",
   "execution_count": null,
   "id": "9b23edda-02e3-403e-b9f6-2961ffffbbcc",
   "metadata": {
    "tags": []
   },
   "outputs": [],
   "source": [
    "# Upload the subset data to S3\n",
    "bucket_name = 'pytorch-aws-train-deploy-project'\n",
    "\n",
    "train_source_directory = \"/root/Experiments_tut/toy_pytorch_project/data/cifar10_foldered_subset/train\"\n",
    "train_target_directory = \"cifar-dataset/foldered-dataset-subset/train\"\n",
    "\n",
    "val_source_directory = \"/root/Experiments_tut/toy_pytorch_project/data/cifar10_foldered_subset/val\"\n",
    "val_target_directory = \"cifar-dataset/foldered-dataset-subset/val\"\n",
    "\n",
    "upload_dir_to_s3(bucket_name,train_source_directory, train_target_directory)\n",
    "upload_dir_to_s3(bucket_name,val_source_directory, val_target_directory)"
   ]
  }
 ],
 "metadata": {
  "availableInstances": [
   {
    "_defaultOrder": 0,
    "_isFastLaunch": true,
    "category": "General purpose",
    "gpuNum": 0,
    "hideHardwareSpecs": false,
    "memoryGiB": 4,
    "name": "ml.t3.medium",
    "vcpuNum": 2
   },
   {
    "_defaultOrder": 1,
    "_isFastLaunch": false,
    "category": "General purpose",
    "gpuNum": 0,
    "hideHardwareSpecs": false,
    "memoryGiB": 8,
    "name": "ml.t3.large",
    "vcpuNum": 2
   },
   {
    "_defaultOrder": 2,
    "_isFastLaunch": false,
    "category": "General purpose",
    "gpuNum": 0,
    "hideHardwareSpecs": false,
    "memoryGiB": 16,
    "name": "ml.t3.xlarge",
    "vcpuNum": 4
   },
   {
    "_defaultOrder": 3,
    "_isFastLaunch": false,
    "category": "General purpose",
    "gpuNum": 0,
    "hideHardwareSpecs": false,
    "memoryGiB": 32,
    "name": "ml.t3.2xlarge",
    "vcpuNum": 8
   },
   {
    "_defaultOrder": 4,
    "_isFastLaunch": true,
    "category": "General purpose",
    "gpuNum": 0,
    "hideHardwareSpecs": false,
    "memoryGiB": 8,
    "name": "ml.m5.large",
    "vcpuNum": 2
   },
   {
    "_defaultOrder": 5,
    "_isFastLaunch": false,
    "category": "General purpose",
    "gpuNum": 0,
    "hideHardwareSpecs": false,
    "memoryGiB": 16,
    "name": "ml.m5.xlarge",
    "vcpuNum": 4
   },
   {
    "_defaultOrder": 6,
    "_isFastLaunch": false,
    "category": "General purpose",
    "gpuNum": 0,
    "hideHardwareSpecs": false,
    "memoryGiB": 32,
    "name": "ml.m5.2xlarge",
    "vcpuNum": 8
   },
   {
    "_defaultOrder": 7,
    "_isFastLaunch": false,
    "category": "General purpose",
    "gpuNum": 0,
    "hideHardwareSpecs": false,
    "memoryGiB": 64,
    "name": "ml.m5.4xlarge",
    "vcpuNum": 16
   },
   {
    "_defaultOrder": 8,
    "_isFastLaunch": false,
    "category": "General purpose",
    "gpuNum": 0,
    "hideHardwareSpecs": false,
    "memoryGiB": 128,
    "name": "ml.m5.8xlarge",
    "vcpuNum": 32
   },
   {
    "_defaultOrder": 9,
    "_isFastLaunch": false,
    "category": "General purpose",
    "gpuNum": 0,
    "hideHardwareSpecs": false,
    "memoryGiB": 192,
    "name": "ml.m5.12xlarge",
    "vcpuNum": 48
   },
   {
    "_defaultOrder": 10,
    "_isFastLaunch": false,
    "category": "General purpose",
    "gpuNum": 0,
    "hideHardwareSpecs": false,
    "memoryGiB": 256,
    "name": "ml.m5.16xlarge",
    "vcpuNum": 64
   },
   {
    "_defaultOrder": 11,
    "_isFastLaunch": false,
    "category": "General purpose",
    "gpuNum": 0,
    "hideHardwareSpecs": false,
    "memoryGiB": 384,
    "name": "ml.m5.24xlarge",
    "vcpuNum": 96
   },
   {
    "_defaultOrder": 12,
    "_isFastLaunch": false,
    "category": "General purpose",
    "gpuNum": 0,
    "hideHardwareSpecs": false,
    "memoryGiB": 8,
    "name": "ml.m5d.large",
    "vcpuNum": 2
   },
   {
    "_defaultOrder": 13,
    "_isFastLaunch": false,
    "category": "General purpose",
    "gpuNum": 0,
    "hideHardwareSpecs": false,
    "memoryGiB": 16,
    "name": "ml.m5d.xlarge",
    "vcpuNum": 4
   },
   {
    "_defaultOrder": 14,
    "_isFastLaunch": false,
    "category": "General purpose",
    "gpuNum": 0,
    "hideHardwareSpecs": false,
    "memoryGiB": 32,
    "name": "ml.m5d.2xlarge",
    "vcpuNum": 8
   },
   {
    "_defaultOrder": 15,
    "_isFastLaunch": false,
    "category": "General purpose",
    "gpuNum": 0,
    "hideHardwareSpecs": false,
    "memoryGiB": 64,
    "name": "ml.m5d.4xlarge",
    "vcpuNum": 16
   },
   {
    "_defaultOrder": 16,
    "_isFastLaunch": false,
    "category": "General purpose",
    "gpuNum": 0,
    "hideHardwareSpecs": false,
    "memoryGiB": 128,
    "name": "ml.m5d.8xlarge",
    "vcpuNum": 32
   },
   {
    "_defaultOrder": 17,
    "_isFastLaunch": false,
    "category": "General purpose",
    "gpuNum": 0,
    "hideHardwareSpecs": false,
    "memoryGiB": 192,
    "name": "ml.m5d.12xlarge",
    "vcpuNum": 48
   },
   {
    "_defaultOrder": 18,
    "_isFastLaunch": false,
    "category": "General purpose",
    "gpuNum": 0,
    "hideHardwareSpecs": false,
    "memoryGiB": 256,
    "name": "ml.m5d.16xlarge",
    "vcpuNum": 64
   },
   {
    "_defaultOrder": 19,
    "_isFastLaunch": false,
    "category": "General purpose",
    "gpuNum": 0,
    "hideHardwareSpecs": false,
    "memoryGiB": 384,
    "name": "ml.m5d.24xlarge",
    "vcpuNum": 96
   },
   {
    "_defaultOrder": 20,
    "_isFastLaunch": false,
    "category": "General purpose",
    "gpuNum": 0,
    "hideHardwareSpecs": true,
    "memoryGiB": 0,
    "name": "ml.geospatial.interactive",
    "supportedImageNames": [
     "sagemaker-geospatial-v1-0"
    ],
    "vcpuNum": 0
   },
   {
    "_defaultOrder": 21,
    "_isFastLaunch": true,
    "category": "Compute optimized",
    "gpuNum": 0,
    "hideHardwareSpecs": false,
    "memoryGiB": 4,
    "name": "ml.c5.large",
    "vcpuNum": 2
   },
   {
    "_defaultOrder": 22,
    "_isFastLaunch": false,
    "category": "Compute optimized",
    "gpuNum": 0,
    "hideHardwareSpecs": false,
    "memoryGiB": 8,
    "name": "ml.c5.xlarge",
    "vcpuNum": 4
   },
   {
    "_defaultOrder": 23,
    "_isFastLaunch": false,
    "category": "Compute optimized",
    "gpuNum": 0,
    "hideHardwareSpecs": false,
    "memoryGiB": 16,
    "name": "ml.c5.2xlarge",
    "vcpuNum": 8
   },
   {
    "_defaultOrder": 24,
    "_isFastLaunch": false,
    "category": "Compute optimized",
    "gpuNum": 0,
    "hideHardwareSpecs": false,
    "memoryGiB": 32,
    "name": "ml.c5.4xlarge",
    "vcpuNum": 16
   },
   {
    "_defaultOrder": 25,
    "_isFastLaunch": false,
    "category": "Compute optimized",
    "gpuNum": 0,
    "hideHardwareSpecs": false,
    "memoryGiB": 72,
    "name": "ml.c5.9xlarge",
    "vcpuNum": 36
   },
   {
    "_defaultOrder": 26,
    "_isFastLaunch": false,
    "category": "Compute optimized",
    "gpuNum": 0,
    "hideHardwareSpecs": false,
    "memoryGiB": 96,
    "name": "ml.c5.12xlarge",
    "vcpuNum": 48
   },
   {
    "_defaultOrder": 27,
    "_isFastLaunch": false,
    "category": "Compute optimized",
    "gpuNum": 0,
    "hideHardwareSpecs": false,
    "memoryGiB": 144,
    "name": "ml.c5.18xlarge",
    "vcpuNum": 72
   },
   {
    "_defaultOrder": 28,
    "_isFastLaunch": false,
    "category": "Compute optimized",
    "gpuNum": 0,
    "hideHardwareSpecs": false,
    "memoryGiB": 192,
    "name": "ml.c5.24xlarge",
    "vcpuNum": 96
   },
   {
    "_defaultOrder": 29,
    "_isFastLaunch": true,
    "category": "Accelerated computing",
    "gpuNum": 1,
    "hideHardwareSpecs": false,
    "memoryGiB": 16,
    "name": "ml.g4dn.xlarge",
    "vcpuNum": 4
   },
   {
    "_defaultOrder": 30,
    "_isFastLaunch": false,
    "category": "Accelerated computing",
    "gpuNum": 1,
    "hideHardwareSpecs": false,
    "memoryGiB": 32,
    "name": "ml.g4dn.2xlarge",
    "vcpuNum": 8
   },
   {
    "_defaultOrder": 31,
    "_isFastLaunch": false,
    "category": "Accelerated computing",
    "gpuNum": 1,
    "hideHardwareSpecs": false,
    "memoryGiB": 64,
    "name": "ml.g4dn.4xlarge",
    "vcpuNum": 16
   },
   {
    "_defaultOrder": 32,
    "_isFastLaunch": false,
    "category": "Accelerated computing",
    "gpuNum": 1,
    "hideHardwareSpecs": false,
    "memoryGiB": 128,
    "name": "ml.g4dn.8xlarge",
    "vcpuNum": 32
   },
   {
    "_defaultOrder": 33,
    "_isFastLaunch": false,
    "category": "Accelerated computing",
    "gpuNum": 4,
    "hideHardwareSpecs": false,
    "memoryGiB": 192,
    "name": "ml.g4dn.12xlarge",
    "vcpuNum": 48
   },
   {
    "_defaultOrder": 34,
    "_isFastLaunch": false,
    "category": "Accelerated computing",
    "gpuNum": 1,
    "hideHardwareSpecs": false,
    "memoryGiB": 256,
    "name": "ml.g4dn.16xlarge",
    "vcpuNum": 64
   },
   {
    "_defaultOrder": 35,
    "_isFastLaunch": false,
    "category": "Accelerated computing",
    "gpuNum": 1,
    "hideHardwareSpecs": false,
    "memoryGiB": 61,
    "name": "ml.p3.2xlarge",
    "vcpuNum": 8
   },
   {
    "_defaultOrder": 36,
    "_isFastLaunch": false,
    "category": "Accelerated computing",
    "gpuNum": 4,
    "hideHardwareSpecs": false,
    "memoryGiB": 244,
    "name": "ml.p3.8xlarge",
    "vcpuNum": 32
   },
   {
    "_defaultOrder": 37,
    "_isFastLaunch": false,
    "category": "Accelerated computing",
    "gpuNum": 8,
    "hideHardwareSpecs": false,
    "memoryGiB": 488,
    "name": "ml.p3.16xlarge",
    "vcpuNum": 64
   },
   {
    "_defaultOrder": 38,
    "_isFastLaunch": false,
    "category": "Accelerated computing",
    "gpuNum": 8,
    "hideHardwareSpecs": false,
    "memoryGiB": 768,
    "name": "ml.p3dn.24xlarge",
    "vcpuNum": 96
   },
   {
    "_defaultOrder": 39,
    "_isFastLaunch": false,
    "category": "Memory Optimized",
    "gpuNum": 0,
    "hideHardwareSpecs": false,
    "memoryGiB": 16,
    "name": "ml.r5.large",
    "vcpuNum": 2
   },
   {
    "_defaultOrder": 40,
    "_isFastLaunch": false,
    "category": "Memory Optimized",
    "gpuNum": 0,
    "hideHardwareSpecs": false,
    "memoryGiB": 32,
    "name": "ml.r5.xlarge",
    "vcpuNum": 4
   },
   {
    "_defaultOrder": 41,
    "_isFastLaunch": false,
    "category": "Memory Optimized",
    "gpuNum": 0,
    "hideHardwareSpecs": false,
    "memoryGiB": 64,
    "name": "ml.r5.2xlarge",
    "vcpuNum": 8
   },
   {
    "_defaultOrder": 42,
    "_isFastLaunch": false,
    "category": "Memory Optimized",
    "gpuNum": 0,
    "hideHardwareSpecs": false,
    "memoryGiB": 128,
    "name": "ml.r5.4xlarge",
    "vcpuNum": 16
   },
   {
    "_defaultOrder": 43,
    "_isFastLaunch": false,
    "category": "Memory Optimized",
    "gpuNum": 0,
    "hideHardwareSpecs": false,
    "memoryGiB": 256,
    "name": "ml.r5.8xlarge",
    "vcpuNum": 32
   },
   {
    "_defaultOrder": 44,
    "_isFastLaunch": false,
    "category": "Memory Optimized",
    "gpuNum": 0,
    "hideHardwareSpecs": false,
    "memoryGiB": 384,
    "name": "ml.r5.12xlarge",
    "vcpuNum": 48
   },
   {
    "_defaultOrder": 45,
    "_isFastLaunch": false,
    "category": "Memory Optimized",
    "gpuNum": 0,
    "hideHardwareSpecs": false,
    "memoryGiB": 512,
    "name": "ml.r5.16xlarge",
    "vcpuNum": 64
   },
   {
    "_defaultOrder": 46,
    "_isFastLaunch": false,
    "category": "Memory Optimized",
    "gpuNum": 0,
    "hideHardwareSpecs": false,
    "memoryGiB": 768,
    "name": "ml.r5.24xlarge",
    "vcpuNum": 96
   },
   {
    "_defaultOrder": 47,
    "_isFastLaunch": false,
    "category": "Accelerated computing",
    "gpuNum": 1,
    "hideHardwareSpecs": false,
    "memoryGiB": 16,
    "name": "ml.g5.xlarge",
    "vcpuNum": 4
   },
   {
    "_defaultOrder": 48,
    "_isFastLaunch": false,
    "category": "Accelerated computing",
    "gpuNum": 1,
    "hideHardwareSpecs": false,
    "memoryGiB": 32,
    "name": "ml.g5.2xlarge",
    "vcpuNum": 8
   },
   {
    "_defaultOrder": 49,
    "_isFastLaunch": false,
    "category": "Accelerated computing",
    "gpuNum": 1,
    "hideHardwareSpecs": false,
    "memoryGiB": 64,
    "name": "ml.g5.4xlarge",
    "vcpuNum": 16
   },
   {
    "_defaultOrder": 50,
    "_isFastLaunch": false,
    "category": "Accelerated computing",
    "gpuNum": 1,
    "hideHardwareSpecs": false,
    "memoryGiB": 128,
    "name": "ml.g5.8xlarge",
    "vcpuNum": 32
   },
   {
    "_defaultOrder": 51,
    "_isFastLaunch": false,
    "category": "Accelerated computing",
    "gpuNum": 1,
    "hideHardwareSpecs": false,
    "memoryGiB": 256,
    "name": "ml.g5.16xlarge",
    "vcpuNum": 64
   },
   {
    "_defaultOrder": 52,
    "_isFastLaunch": false,
    "category": "Accelerated computing",
    "gpuNum": 4,
    "hideHardwareSpecs": false,
    "memoryGiB": 192,
    "name": "ml.g5.12xlarge",
    "vcpuNum": 48
   },
   {
    "_defaultOrder": 53,
    "_isFastLaunch": false,
    "category": "Accelerated computing",
    "gpuNum": 4,
    "hideHardwareSpecs": false,
    "memoryGiB": 384,
    "name": "ml.g5.24xlarge",
    "vcpuNum": 96
   },
   {
    "_defaultOrder": 54,
    "_isFastLaunch": false,
    "category": "Accelerated computing",
    "gpuNum": 8,
    "hideHardwareSpecs": false,
    "memoryGiB": 768,
    "name": "ml.g5.48xlarge",
    "vcpuNum": 192
   },
   {
    "_defaultOrder": 55,
    "_isFastLaunch": false,
    "category": "Accelerated computing",
    "gpuNum": 8,
    "hideHardwareSpecs": false,
    "memoryGiB": 1152,
    "name": "ml.p4d.24xlarge",
    "vcpuNum": 96
   },
   {
    "_defaultOrder": 56,
    "_isFastLaunch": false,
    "category": "Accelerated computing",
    "gpuNum": 8,
    "hideHardwareSpecs": false,
    "memoryGiB": 1152,
    "name": "ml.p4de.24xlarge",
    "vcpuNum": 96
   }
  ],
  "instance_type": "ml.t3.medium",
  "kernelspec": {
   "display_name": "Python 3 (Data Science)",
   "language": "python",
   "name": "python3__SAGEMAKER_INTERNAL__arn:aws:sagemaker:us-east-1:081325390199:image/datascience-1.0"
  },
  "language_info": {
   "codemirror_mode": {
    "name": "ipython",
    "version": 3
   },
   "file_extension": ".py",
   "mimetype": "text/x-python",
   "name": "python",
   "nbconvert_exporter": "python",
   "pygments_lexer": "ipython3",
   "version": "3.7.10"
  }
 },
 "nbformat": 4,
 "nbformat_minor": 5
}
